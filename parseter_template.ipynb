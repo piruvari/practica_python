{
  "nbformat": 4,
  "nbformat_minor": 0,
  "metadata": {
    "colab": {
      "provenance": [],
      "authorship_tag": "ABX9TyMghCY0UXeQFhDNF/5pd2Ce",
      "include_colab_link": true
    },
    "kernelspec": {
      "name": "python3",
      "display_name": "Python 3"
    },
    "language_info": {
      "name": "python"
    }
  },
  "cells": [
    {
      "cell_type": "markdown",
      "metadata": {
        "id": "view-in-github",
        "colab_type": "text"
      },
      "source": [
        "<a href=\"https://colab.research.google.com/github/piruvari/practica_python/blob/master/parseter_template.ipynb\" target=\"_parent\"><img src=\"https://colab.research.google.com/assets/colab-badge.svg\" alt=\"Open In Colab\"/></a>"
      ]
    },
    {
      "cell_type": "code",
      "execution_count": null,
      "metadata": {
        "id": "zwqFn6K7W6Pf"
      },
      "outputs": [],
      "source": [
        "developer=\"\"\" \"\" \"\"\"\n",
        "endereco_source=\"drive/MyDrive/carrefour/scripts/template/\"\n",
        "endereco_destino=\"drive/MyDrive/carrefour/scripts/destino/\"\n",
        "arquivos_a_processar=[{'arquivo':'2_clean_tabela.txt'},{'arquivo':'1_raw_tabela.txt'},{'arquivo':'4_trusted_hist_tabela.txt'},{'arquivo':'3_trusted_tabela.txt'},{'arquivo':'6_drop.txt'},{'arquivo':'7_insert.txt'},{'arquivo':'5_backup.txt'} ]"
      ]
    },
    {
      "cell_type": "markdown",
      "source": [
        "#tsys_cpaymentsliplinks"
      ],
      "metadata": {
        "id": "-ltjun2bfF1x"
      }
    },
    {
      "cell_type": "code",
      "source": [
        "tabela='tsys_cpaymentsliplinks'#'tsys_cpaymentsliplinks' #tsys_cstatementlinks, tsys_cstatements.\n",
        "unique_key='paymentslipserno,trxnserno'\n",
        "unique_key_lista=\"\"\" \"paymentslipserno\",\"trxnserno\" \"\"\"\n",
        "scheduler=tabela\n",
        "data_number='202403100000'\n",
        "path='gs://csf-core-data-prd-transient/tsys_cpaymentsliplinks/R06_CL7496_BR_DWH_IssFeed_cpaymentsliplinks'"
      ],
      "metadata": {
        "id": "piOieTv4coqg"
      },
      "execution_count": null,
      "outputs": []
    },
    {
      "cell_type": "markdown",
      "source": [
        "#tsys_cstatementlinks"
      ],
      "metadata": {
        "id": "zdli0TuTfKrS"
      }
    },
    {
      "cell_type": "code",
      "source": [
        "tabela='tsys_cstatementlinks'\n",
        "unique_key='statement_serno,trxnserno'\n",
        "unique_key_lista=\"\"\" \"statement_serno\",\"trxnserno\" \"\"\"\n",
        "scheduler=tabela\n",
        "data_number='202403080000'\n",
        "path='gs://csf-core-data-prd-transient/tsys_cstatementlinks/R06_CL7496_BR_DWH_IssFeed_cstatementlinks'"
      ],
      "metadata": {
        "id": "CM6WdZa_fInj"
      },
      "execution_count": null,
      "outputs": []
    },
    {
      "cell_type": "code",
      "source": [],
      "metadata": {
        "id": "qqIW1N2cfB5r"
      },
      "execution_count": null,
      "outputs": []
    },
    {
      "cell_type": "code",
      "source": [
        "from google.colab import drive\n",
        "drive.mount('/content/drive')"
      ],
      "metadata": {
        "id": "bfkQXd0A70jZ",
        "colab": {
          "base_uri": "https://localhost:8080/"
        },
        "outputId": "e6021e03-9cea-4003-b614-ab2105f2a675"
      },
      "execution_count": null,
      "outputs": [
        {
          "output_type": "stream",
          "name": "stdout",
          "text": [
            "Mounted at /content/drive\n"
          ]
        }
      ]
    },
    {
      "cell_type": "code",
      "source": [
        "##tratamento para a estrutura da coluna\n",
        "estrutura_column=\"\"\" {name: '#nomecoluna#', type: '#tipocoluna#'}, \"\"\"\n",
        "description_column=\"\"\" #nomecoluna#: '#descripcaocoluna#', \"\"\"\n",
        "case_column=\"\"\"CASE WHEN type = 'D' AND #nomecoluna#  IS NULL THEN LEAD( #nomecoluna# ) OVER(PARTITION BY #unique_key# ORDER BY ingestion_ref_date DESC) ELSE  #nomecoluna#  end as  #nomecoluna# ,\"\"\"\n",
        "columns=''\n",
        "columns_description=''\n",
        "table_description=''\n",
        "columna_raw=''\n",
        "count=0\n",
        "columna_case=''\n",
        "with open(endereco_source+'doc_tsys_'+tabela+'.txt', \"r\") as arquivo:\n",
        "    linha = arquivo.readline()\n",
        "    while linha:\n",
        "        case_column_ax=case_column\n",
        "        estrutura_column_ax=estrutura_column\n",
        "        description_column_ax=description_column\n",
        "        if count==0 :\n",
        "            table_description=linha.replace('Layout do Registro: ','').replace('\\n','')\n",
        "            print(linha)\n",
        "        else:\n",
        "            print(linha)\n",
        "            descripcaocoluna=linha.split(',')[2].replace('P17-1','').strip()\n",
        "            numero=float(linha.split(',')[1].split('(')[1].split(')')[0])\n",
        "            nomecoluna=linha.split('.')[1].split(',')[0].strip().replace(' ','').replace('_','').lower()\n",
        "\n",
        "            if 'A' in linha.split('.')[1].split(',')[1] or numero>32:\n",
        "                tipocoluna='string'\n",
        "            elif numero<32 and numero > 16:\n",
        "                tipocoluna='bignumeric'\n",
        "            else :\n",
        "                tipocoluna='numeric'\n",
        "            columna_raw=columna_raw+'\\t'+nomecoluna+',\\n'\n",
        "            columna_case=columna_case+'\\t'+case_column_ax.replace('#nomecoluna#',nomecoluna).replace('#unique_key#',unique_key)+'\\n'\n",
        "            columns_description=columns_description+'\\t'+description_column_ax.replace('#nomecoluna#',nomecoluna).replace('#descripcaocoluna#',descripcaocoluna)+'\\n'\n",
        "            columns=columns+'\\t'+estrutura_column_ax.replace('#nomecoluna#',nomecoluna).replace('#tipocoluna#',tipocoluna)+'\\n'\n",
        "        linha = arquivo.readline()\n",
        "        count=count+1\n",
        "\n",
        "\n",
        "\n"
      ],
      "metadata": {
        "id": "yjPfASrmA3W2",
        "colab": {
          "base_uri": "https://localhost:8080/"
        },
        "outputId": "1f9f490e-0a33-4b5a-c4aa-c13185f5516d"
      },
      "execution_count": null,
      "outputs": [
        {
          "output_type": "stream",
          "name": "stdout",
          "text": [
            "",
            "\n"
          ]
        }
      ]
    },
    {
      "cell_type": "code",
      "source": [
        "#print(columns_description)\n",
        "#print(columns)\n",
        "for item in arquivos_a_processar:\n",
        "    arquivo = item.get('arquivo')\n",
        "    arquivo_nome=arquivo\n",
        "    with open(endereco_source+arquivo, \"r\") as arquivo:\n",
        "        conteudo = arquivo.read()\n",
        "        conteudo=conteudo.replace('#tabela#',tabela).replace('#table_description#',table_description).replace('#developer#',developer).replace('#unique_key#',unique_key).replace('#unique_key_lista#',unique_key_lista).replace('#columns_description#',columns_description).replace('#scheduler#',scheduler).replace('#columns#',columns).replace('#case#',columna_case).replace('#date#',data_number).replace('#path#',path).replace('#columna_raw#',columna_raw).replace('#unique_key_lista#',unique_key_lista)\n",
        "        #print(conteudo)\n",
        "        print(tabela+arquivo_nome)\n",
        "        f = open(endereco_destino+tabela+arquivo_nome, \"a\")\n",
        "        f.write(conteudo)\n",
        "        f.close()"
      ],
      "metadata": {
        "colab": {
          "base_uri": "https://localhost:8080/"
        },
        "id": "1XZdosZW_bbZ",
        "outputId": "ed34da7d-014a-4ffa-8bf8-36e455854a4d"
      },
      "execution_count": null,
      "outputs": [
        {
          "output_type": "stream",
          "name": "stdout",
          "text": [""
          ]
        }
      ]
    }
  ]
}
